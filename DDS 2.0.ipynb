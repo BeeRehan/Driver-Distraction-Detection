{
 "cells": [
  {
   "cell_type": "code",
   "execution_count": 1,
   "metadata": {},
   "outputs": [
    {
     "name": "stdout",
     "output_type": "stream",
     "text": [
      "pygame 1.9.6\n",
      "Hello from the pygame community. https://www.pygame.org/contribute.html\n"
     ]
    }
   ],
   "source": [
    "import numpy as np\n",
    "import cv2\n",
    "import dlib\n",
    "from scipy.spatial import distance as dist\n",
    "import pygame"
   ]
  },
  {
   "cell_type": "code",
   "execution_count": 2,
   "metadata": {},
   "outputs": [],
   "source": [
    "pygame.init()\n",
    "war=pygame.mixer.Sound(\"src/audio.wav\")\n",
    "RIGHT_EYE_POINTS = list(range(36, 42))\n",
    "LEFT_EYE_POINTS = list(range(42, 48))\n",
    "EYE_AR_THRESH = 0.22\n",
    "EYE_AR_CONSEC_FRAMES = 3\n",
    "EAR_AVG = 0\n",
    "detector = dlib.get_frontal_face_detector()\n",
    "predictor = dlib.shape_predictor('src/shape_predictor_68_face_landmarks.dat')\n",
    "COUNTER = 0\n",
    "TOTAL = 0\n",
    "#fourcc = cv2.VideoWriter_fourcc(*\"MJPG\")\n",
    "#video_out = cv2.VideoWriter('video_out.avi', fourcc, 10.0,(1200, 900))"
   ]
  },
  {
   "cell_type": "code",
   "execution_count": 3,
   "metadata": {},
   "outputs": [],
   "source": [
    "def eye_aspect_ratio(eye):\n",
    "    # compute the euclidean distance between the vertical eye landmarks\n",
    "    A = dist.euclidean(eye[1], eye[5])\n",
    "    B = dist.euclidean(eye[2], eye[4])\n",
    "    # compute the euclidean distance between the horizontal eye landmarks\n",
    "    C = dist.euclidean(eye[0], eye[3])\n",
    "    # compute the EAR\n",
    "    ear = (A + B) / (2 * C)\n",
    "    return ear\n",
    "cap = cv2.VideoCapture(0)\n",
    "while True:\n",
    "    # get the frame\n",
    "        ret, frame = cap.read()\n",
    "    #frame = cv2.resize(frame, (0, 0), fx=0.5, fy=0.5)\n",
    "        if ret:\n",
    "        # convert the frame to grayscale\n",
    "            gray = cv2.cvtColor(frame, cv2.COLOR_BGR2GRAY)\n",
    "            rects = detector(gray, 0)\n",
    "        for rect in rects:\n",
    "            x = rect.left()\n",
    "            y = rect.top()\n",
    "            x1 = rect.right()\n",
    "            y1 = rect.bottom()\n",
    "             # get the facial landmarks\n",
    "            landmarks = np.matrix([[p.x, p.y] \n",
    "            for p in predictor(frame, rect).parts()])\n",
    "            # get the left eye landmarks\n",
    "            left_eye = landmarks[LEFT_EYE_POINTS]\n",
    "            # get the right eye landmarks\n",
    "            right_eye = landmarks[RIGHT_EYE_POINTS]\n",
    "            # draw contours on the eyes\n",
    "            left_eye_hull = cv2.convexHull(left_eye)\n",
    "            right_eye_hull = cv2.convexHull(right_eye)\n",
    "            cv2.drawContours(frame, [left_eye_hull], -1, (0, 255, 0), 1)  #(image, [contour], all_contours, color, thickness)\n",
    "            cv2.drawContours(frame, [right_eye_hull], -1, (0, 255, 0), 1)\n",
    "            # compute the EAR for the left eye\n",
    "            ear_left = eye_aspect_ratio(left_eye)\n",
    "            # compute the EAR for the right eye\n",
    "            ear_right = eye_aspect_ratio(right_eye)\n",
    "            # compute the average EAR\n",
    "            ear_avg = (ear_left + ear_right) / 2.0\n",
    "            if ear_avg < EYE_AR_THRESH:\n",
    "                a=\"Distraction\"\n",
    "                cv2.putText(frame, \"Status {}\".format(a), (10, 30), cv2.FONT_HERSHEY_DUPLEX, 0.7, (0, 0, 255), 1)\n",
    "                COUNTER += 1\n",
    "                war.play()\n",
    "            else:\n",
    "                if COUNTER >= EYE_AR_CONSEC_FRAMES:\n",
    "                    TOTAL += 1                    \n",
    "                COUNTER = 0\n",
    "                a=\"Focused\"\n",
    "                cv2.putText(frame, \"Status {}\".format(a), (10, 60), cv2.FONT_HERSHEY_DUPLEX, 0.7, (0, 255, 255), 1)\n",
    "            cv2.putText(frame, \"No.of.Distraction{}\".format(TOTAL), (10, 90), cv2.FONT_HERSHEY_DUPLEX, 0.7, (0, 255, 255), 1)\n",
    "            cv2.putText(frame, \"EAR {}\".format(ear_avg), (10, 120), cv2.FONT_HERSHEY_DUPLEX, 0.7, (0, 255, 255), 1)\n",
    "        if (TOTAL>=10):\n",
    "            war.play()\n",
    "            cv2.putText(frame, \"Warning {}\".format(\"Stop the Vechile\"), (160, 200), cv2.FONT_HERSHEY_DUPLEX, 0.7, (0, 255, 0), 1)\n",
    "        cv2.imshow(\"L2R presents\", frame)\n",
    "        key = cv2.waitKey(1) & 0xFF\n",
    "        # When key 'Q' is pressed, exit\n",
    "        if key is ord('q'):\n",
    "            break\n",
    "#video_out.write(frame)\n",
    "#video_out.release()\n",
    "# release all resourcesq\n",
    "cap.release()\n",
    "# destroy all windows\n",
    "cv2.destroyAllWindows()\n"
   ]
  },
  {
   "cell_type": "code",
   "execution_count": null,
   "metadata": {},
   "outputs": [],
   "source": []
  },
  {
   "cell_type": "code",
   "execution_count": null,
   "metadata": {},
   "outputs": [],
   "source": []
  },
  {
   "cell_type": "code",
   "execution_count": null,
   "metadata": {},
   "outputs": [],
   "source": []
  },
  {
   "cell_type": "code",
   "execution_count": null,
   "metadata": {},
   "outputs": [],
   "source": []
  }
 ],
 "metadata": {
  "kernelspec": {
   "display_name": "Python 3",
   "language": "python",
   "name": "python3"
  },
  "language_info": {
   "codemirror_mode": {
    "name": "ipython",
    "version": 3
   },
   "file_extension": ".py",
   "mimetype": "text/x-python",
   "name": "python",
   "nbconvert_exporter": "python",
   "pygments_lexer": "ipython3",
   "version": "3.7.3"
  }
 },
 "nbformat": 4,
 "nbformat_minor": 2
}
